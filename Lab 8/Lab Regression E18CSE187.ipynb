{
 "cells": [
  {
   "cell_type": "code",
   "execution_count": 52,
   "metadata": {
    "scrolled": true
   },
   "outputs": [
    {
     "name": "stdout",
     "output_type": "stream",
     "text": [
      "[[1.         0.78451053 0.62115506 0.5465821  0.48474634 0.43876466\n",
      "  0.41806788 0.39711681 0.37259642]\n",
      " [0.78451053 1.         0.86682183 0.7463732  0.6715462  0.60915992\n",
      "  0.56818886 0.54178612 0.51338852]\n",
      " [0.62115506 0.86682183 1.         0.90661773 0.80955978 0.74186041\n",
      "  0.68852908 0.6498155  0.61994807]\n",
      " [0.5465821  0.7463732  0.90661773 1.         0.92789305 0.84695966\n",
      "  0.78955771 0.7420969  0.70428789]\n",
      " [0.48474634 0.6715462  0.80955978 0.92789305 1.         0.94135581\n",
      "  0.87384523 0.82375611 0.77997294]\n",
      " [0.43876466 0.60915992 0.74186041 0.84695966 0.94135581 1.\n",
      "  0.95123174 0.89345905 0.8484159 ]\n",
      " [0.41806788 0.56818886 0.68852908 0.78955771 0.87384523 0.95123174\n",
      "  1.         0.95843792 0.90763707]\n",
      " [0.39711681 0.54178612 0.6498155  0.7420969  0.82375611 0.89345905\n",
      "  0.95843792 1.         0.96375008]\n",
      " [0.37259642 0.51338852 0.61994807 0.70428789 0.77997294 0.8484159\n",
      "  0.90763707 0.96375008 1.        ]]\n"
     ]
    },
    {
     "name": "stderr",
     "output_type": "stream",
     "text": [
      "C:\\Users\\TANVI\\Anaconda3\\lib\\site-packages\\ipykernel_launcher.py:11: FutureWarning: get_value is deprecated and will be removed in a future release. Please use .at[] or .iat[] accessors instead\n",
      "  # This is added back by InteractiveShellApp.init_path()\n"
     ]
    }
   ],
   "source": [
    "import numpy as np\n",
    "import pandas as pd\n",
    "dataframe=pd.read_csv(\"dataset.csv\",header=None)\n",
    "d=dataframe.iloc[:,:9]\n",
    "m=d.corr(method=\"pearson\")\n",
    "m1=[]\n",
    "for i in range(0,9,1):\n",
    "    list1=[]\n",
    "    #print(list1)\n",
    "    for j in range(0,9,1):\n",
    "        list1.append(m.get_value(i,j,takeable=True))\n",
    "    m1.append(list1)\n",
    "m1=np.asarray(m1)\n",
    "print(m1)\n",
    "Y=dataframe.iloc[:,10:]\n",
    "#print(Y)\n",
    "X=dataframe.iloc[:,:9]\n",
    "#print(X)"
   ]
  },
  {
   "cell_type": "code",
   "execution_count": 42,
   "metadata": {},
   "outputs": [
    {
     "name": "stdout",
     "output_type": "stream",
     "text": [
      "MSE= 0.0012133797659398234\n"
     ]
    }
   ],
   "source": [
    "Xt=np.transpose(X)\n",
    "#print(Xt)\n",
    "XtXinv= np.linalg.inv(np.dot(Xt,X))\n",
    "#print(XtXinv)\n",
    "XtXinvXt=np.dot(XtXinv,Xt)\n",
    "#print(XtXinvXt)\n",
    "theta=np.dot(XtXinvXt,Y)\n",
    "#print(theta)\n",
    "Y1=np.dot(X,theta)\n",
    "sub=np.subtract(Y,Y1)\n",
    "power=np.power(sub,2)\n",
    "mse=power.mean()\n",
    "print(\"MSE=\",float(mse))"
   ]
  }
 ],
 "metadata": {
  "kernelspec": {
   "display_name": "Python 3",
   "language": "python",
   "name": "python3"
  },
  "language_info": {
   "codemirror_mode": {
    "name": "ipython",
    "version": 3
   },
   "file_extension": ".py",
   "mimetype": "text/x-python",
   "name": "python",
   "nbconvert_exporter": "python",
   "pygments_lexer": "ipython3",
   "version": "3.7.0"
  }
 },
 "nbformat": 4,
 "nbformat_minor": 2
}
