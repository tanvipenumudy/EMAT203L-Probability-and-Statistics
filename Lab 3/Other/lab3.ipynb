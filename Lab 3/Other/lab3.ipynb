{
  "cells": [
    {
      "metadata": {
        "trusted": true
      },
      "cell_type": "code",
      "source": "# Question 1\n\nx <- sample(1:6,10,replace=T)\nfor (i in x){\n    print(x[i])\n} ",
      "execution_count": 6,
      "outputs": [
        {
          "output_type": "stream",
          "text": "[1] 2\n[1] 4\n[1] 6\n[1] 3\n[1] 3\n[1] 4\n[1] 6\n[1] 3\n[1] 3\n[1] 3\n",
          "name": "stdout"
        }
      ]
    },
    {
      "metadata": {
        "trusted": true,
        "scrolled": true
      },
      "cell_type": "code",
      "source": "# Question 2\n\nsample_data <- sample(1:6,10,replace=T)\nprint(sample_data)\n\nsample_space <- matrix(0, nrow=6, ncol=6)\n\nfor (ind in 2:length(sample_data)-1) {\n    curEle <- sample_data[ind]\n    nexEle <- sample_data[ind+1]\n    sample_space[[curEle,nexEle]] = sample_space[[curEle,nexEle]] + 1\n}\nprint(sample_space)",
      "execution_count": 112,
      "outputs": [
        {
          "output_type": "stream",
          "text": " [1] 5 4 4 4 2 4 5 3 4 4\n     [,1] [,2] [,3] [,4] [,5] [,6]\n[1,]    0    0    0    0    0    0\n[2,]    0    0    0    1    0    0\n[3,]    0    0    0    1    0    0\n[4,]    0    1    0    3    1    0\n[5,]    0    0    1    1    0    0\n[6,]    0    0    0    0    0    0\n",
          "name": "stdout"
        }
      ]
    },
    {
      "metadata": {
        "trusted": true
      },
      "cell_type": "code",
      "source": "# Question 3\n\nsample_data <- sample(1:6,5000,replace=T)\nsample_space <- matrix(0, nrow=6, ncol=6)\n\nfor (ind in 2:length(sample_data)-1) {\n    curEle <- sample_data[ind]\n    nexEle <- sample_data[ind+1]\n    sample_space[[curEle,nexEle]] = sample_space[[curEle,nexEle]] + 1\n}\n\nsample_space_prob <- matrix(0, nrow=6, ncol=6)\nfor (sample_index in 1:6) {\n    element_count <- 0\n    for (eleIndex in 1:6) {\n        element_count = element_count + sample_space[[sample_index, eleIndex]]\n    }\n    for (sample_number in 1:6) {\n        sample_space_prob[[sample_index, sample_number]] = sample_space[[sample_index, sample_number]] / element_count\n\n    }       \n}\n\n# print(\"### Sample Data ###\")\n# print(sample_data)\nprint(\"### Sample Space ###\")\nprint(sample_space)\nprint(\"### Sample Space Probablity ###\")\nprint(sample_space_prob)",
      "execution_count": 131,
      "outputs": [
        {
          "output_type": "stream",
          "text": "[1] \"### Sample Space ###\"\n     [,1] [,2] [,3] [,4] [,5] [,6]\n[1,]  128  127  126  142  135  149\n[2,]  138  154  122  145  152  137\n[3,]  128  129  146  146  148  132\n[4,]  131  138  131  160  155  129\n[5,]  133  149  168  120  144  139\n[6,]  149  150  136  131  120  132\n[1] \"### Sample Space Probablity ###\"\n          [,1]      [,2]      [,3]      [,4]      [,5]      [,6]\n[1,] 0.1586121 0.1573730 0.1561338 0.1759603 0.1672862 0.1846344\n[2,] 0.1627358 0.1816038 0.1438679 0.1709906 0.1792453 0.1615566\n[3,] 0.1544029 0.1556092 0.1761158 0.1761158 0.1785283 0.1592280\n[4,] 0.1552133 0.1635071 0.1552133 0.1895735 0.1836493 0.1528436\n[5,] 0.1559203 0.1746776 0.1969519 0.1406800 0.1688159 0.1629543\n[6,] 0.1821516 0.1833741 0.1662592 0.1601467 0.1466993 0.1613692\n",
          "name": "stdout"
        }
      ]
    }
  ],
  "metadata": {
    "kernelspec": {
      "name": "r",
      "display_name": "R",
      "language": "R"
    },
    "language_info": {
      "mimetype": "text/x-r-source",
      "name": "R",
      "pygments_lexer": "r",
      "version": "3.5.3",
      "file_extension": ".r",
      "codemirror_mode": "r"
    }
  },
  "nbformat": 4,
  "nbformat_minor": 2
}