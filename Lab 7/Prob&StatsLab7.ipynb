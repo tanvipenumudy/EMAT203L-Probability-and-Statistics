{
 "cells": [
  {
   "cell_type": "code",
   "execution_count": 1,
   "metadata": {},
   "outputs": [],
   "source": [
    "import pandas as pd\n",
    "import numpy as np\n",
    "# Set matplotlib as inline\n",
    "%matplotlib inline "
   ]
  },
  {
   "cell_type": "markdown",
   "metadata": {},
   "source": [
    "Question 1"
   ]
  },
  {
   "cell_type": "code",
   "execution_count": 2,
   "metadata": {},
   "outputs": [
    {
     "name": "stdout",
     "output_type": "stream",
     "text": [
      "Enter a(Standard Deviation): 7\n",
      "Enter b(Mean): 3\n",
      "Mean: 2.9369781288628247 which is approximately equal to 3\n",
      "Variance: 49.49723666527528 which is approximately equal to 49\n"
     ]
    }
   ],
   "source": [
    "mu,sigma=0,1\n",
    "x=np.random.normal(mu,sigma,10000)\n",
    "a=int(input(\"Enter a(Standard Deviation): \"))\n",
    "b=int(input(\"Enter b(Mean): \"))\n",
    "y=a*x+b\n",
    "print(\"Mean:\",np.mean(y),\"which is approximately equal to\",b)\n",
    "print(\"Variance:\",np.std(y)*np.std(y),\"which is approximately equal to\",a*a)"
   ]
  },
  {
   "cell_type": "markdown",
   "metadata": {},
   "source": [
    "Question 2"
   ]
  },
  {
   "cell_type": "code",
   "execution_count": 3,
   "metadata": {},
   "outputs": [
    {
     "name": "stdout",
     "output_type": "stream",
     "text": [
      "Enter a(Standard Deviation): 98\n",
      "Enter b(Mean): 34\n",
      "Mean: -0.016738442578903064 which is approximately equal to 0\n",
      "Variance: 1.0079153317065068 which is approximately equal to 1\n"
     ]
    }
   ],
   "source": [
    "a=int(input(\"Enter a(Standard Deviation): \"))\n",
    "b=int(input(\"Enter b(Mean): \"))\n",
    "mu,sigma=b,a\n",
    "x=np.random.normal(mu,sigma,10000)\n",
    "y=(x-b)/a\n",
    "print(\"Mean:\",np.mean(y),\"which is approximately equal to 0\")\n",
    "print(\"Variance:\",np.std(y)*np.std(y),\"which is approximately equal to 1\")"
   ]
  },
  {
   "cell_type": "markdown",
   "metadata": {},
   "source": [
    "Question 3 (i) Poisson"
   ]
  },
  {
   "cell_type": "code",
   "execution_count": 7,
   "metadata": {},
   "outputs": [],
   "source": [
    "population=pd.DataFrame() #empty dataframe\n",
    "#create column that is 10000 random numbers drawn from a poisson's distribution\n",
    "population['numbers']=np.random.poisson(50,size=10000)"
   ]
  },
  {
   "cell_type": "code",
   "execution_count": 8,
   "metadata": {},
   "outputs": [
    {
     "data": {
      "text/plain": [
       "<matplotlib.axes._subplots.AxesSubplot at 0x26a5f0e0ba8>"
      ]
     },
     "execution_count": 8,
     "metadata": {},
     "output_type": "execute_result"
    },
    {
     "data": {
      "image/png": "[encoded data removed]",
      "text/plain": [
       "<Figure size 432x288 with 1 Axes>"
      ]
     },
     "metadata": {
      "needs_background": "light"
     },
     "output_type": "display_data"
    }
   ],
   "source": [
    "population['numbers'].hist(bins=50)#plot hist"
   ]
  },
  {
   "cell_type": "code",
   "execution_count": 9,
   "metadata": {},
   "outputs": [
    {
     "name": "stdout",
     "output_type": "stream",
     "text": [
      "The mean of population is: 50.0045\n",
      "The mean of sampled means is: 50.004620999999965\n",
      "The mean of sampled means is only -0.000121 different from the true population mean\n"
     ]
    },
    {
     "data": {
      "image/png": "[encoded data removed]",
      "text/plain": [
       "<Figure size 432x288 with 1 Axes>"
      ]
     },
     "metadata": {
      "needs_background": "light"
     },
     "output_type": "display_data"
    }
   ],
   "source": [
    "m1=population['numbers'].mean()\n",
    "print(\"The mean of population is:\",m1)\n",
    "sampled_means=[]\n",
    "for i in range(0,10000): #for 10000 times\n",
    "    #for a random sample of 100 rows from population,take mean of those rows,append to sampled_means\n",
    "    sampled_means.append(population.sample(n=100).mean().values[0])\n",
    "pd.Series(sampled_means).hist(bins=50) #plot histogram of sampled_means. \n",
    "m2=pd.Series(sampled_means).mean()\n",
    "print(\"The mean of sampled means is:\",m2)\n",
    "error=population['numbers'].mean()-pd.Series(sampled_means).mean() #subtract mean of sampled means from true population mean\n",
    "print('The mean of sampled means is only %f different from the true population mean'%error)"
   ]
  },
  {
   "cell_type": "markdown",
   "metadata": {},
   "source": [
    "Question 3 (ii) Exponential"
   ]
  },
  {
   "cell_type": "code",
   "execution_count": 10,
   "metadata": {},
   "outputs": [],
   "source": [
    "population1=pd.DataFrame() #empty dataframe\n",
    "#create column that is 10000 random numbers drawn from an exponential distribution\n",
    "population1['numbers']=np.random.exponential(5,size=10000)"
   ]
  },
  {
   "cell_type": "code",
   "execution_count": 44,
   "metadata": {},
   "outputs": [
    {
     "data": {
      "text/plain": [
       "<matplotlib.axes._subplots.AxesSubplot at 0x2bcaebf4be0>"
      ]
     },
     "execution_count": 44,
     "metadata": {},
     "output_type": "execute_result"
    },
    {
     "data": {
      "image/png": "[encoded data removed]",
      "text/plain": [
       "<Figure size 432x288 with 1 Axes>"
      ]
     },
     "metadata": {
      "needs_background": "light"
     },
     "output_type": "display_data"
    }
   ],
   "source": [
    "population1['numbers'].hist(bins=50)#plot hist"
   ]
  },
  {
   "cell_type": "code",
   "execution_count": 11,
   "metadata": {},
   "outputs": [
    {
     "name": "stdout",
     "output_type": "stream",
     "text": [
      "The mean of population is: 4.996196418690944\n",
      "The mean of sampled means is: 4.998570842498124\n",
      "The mean of sampled means is only -0.002374 different from the true population mean\n"
     ]
    },
    {
     "data": {
      "image/png": "[encoded data removed]",
      "text/plain": [
       "<Figure size 432x288 with 1 Axes>"
      ]
     },
     "metadata": {
      "needs_background": "light"
     },
     "output_type": "display_data"
    }
   ],
   "source": [
    "m1=population1['numbers'].mean()\n",
    "print(\"The mean of population is:\",m1)\n",
    "sampled_means=[]\n",
    "for i in range(0,10000): #for 10000 times\n",
    "    #for a random sample of 100 rows from population,take mean of those rows,append to sampled_means\n",
    "    sampled_means.append(population1.sample(n=100).mean().values[0])\n",
    "pd.Series(sampled_means).hist(bins=50) #plot histogram of sampled_means. \n",
    "m2=pd.Series(sampled_means).mean()\n",
    "print(\"The mean of sampled means is:\",m2)\n",
    "error=population1['numbers'].mean()-pd.Series(sampled_means).mean() #subtract mean of sampled means from true population mean\n",
    "print('The mean of sampled means is only %f different from the true population mean'%error)"
   ]
  },
  {
   "cell_type": "markdown",
   "metadata": {},
   "source": [
    "Question 3 (iii) Normal"
   ]
  },
  {
   "cell_type": "code",
   "execution_count": 13,
   "metadata": {},
   "outputs": [],
   "source": [
    "population2=pd.DataFrame() #empty dataframe\n",
    "#create column that is 10000 random numbers drawn from a normal distribution distribution\n",
    "population2['numbers']=np.random.normal(4,6,size=10000)"
   ]
  },
  {
   "cell_type": "code",
   "execution_count": 14,
   "metadata": {},
   "outputs": [
    {
     "data": {
      "text/plain": [
       "<matplotlib.axes._subplots.AxesSubplot at 0x26a623d94e0>"
      ]
     },
     "execution_count": 14,
     "metadata": {},
     "output_type": "execute_result"
    },
    {
     "data": {
      "image/png": "[encoded data removed]",
      "text/plain": [
       "<Figure size 432x288 with 1 Axes>"
      ]
     },
     "metadata": {
      "needs_background": "light"
     },
     "output_type": "display_data"
    }
   ],
   "source": [
    "population2['numbers'].hist(bins=50)#plot hist"
   ]
  },
  {
   "cell_type": "code",
   "execution_count": 15,
   "metadata": {},
   "outputs": [
    {
     "name": "stdout",
     "output_type": "stream",
     "text": [
      "The mean of population is: 4.068031721180356\n",
      "The mean of sampled means is: 4.0696155186090985\n",
      "The mean of sampled means is only -0.001584 different from the true population mean\n"
     ]
    },
    {
     "data": {
      "image/png": "[encoded data removed]",
      "text/plain": [
       "<Figure size 432x288 with 1 Axes>"
      ]
     },
     "metadata": {
      "needs_background": "light"
     },
     "output_type": "display_data"
    }
   ],
   "source": [
    "m1=population2['numbers'].mean()\n",
    "print(\"The mean of population is:\",m1)\n",
    "sampled_means=[]\n",
    "for i in range(0,10000): #for 10000 times\n",
    "    #for a random sample of 100 rows from population,take mean of those rows,append to sampled_means\n",
    "    sampled_means.append(population2.sample(n=100).mean().values[0])\n",
    "pd.Series(sampled_means).hist(bins=50) #plot histogram of sampled_means. \n",
    "m2=pd.Series(sampled_means).mean()\n",
    "print(\"The mean of sampled means is:\",m2)\n",
    "error=population2['numbers'].mean()-pd.Series(sampled_means).mean() #subtract mean of sampled means from true population mean\n",
    "print('The mean of sampled means is only %f different from the true population mean'%error)"
   ]
  },
  {
   "cell_type": "code",
   "execution_count": null,
   "metadata": {},
   "outputs": [],
   "source": []
  }
 ],
 "metadata": {
  "kernelspec": {
   "display_name": "Python 3",
   "language": "python",
   "name": "python3"
  },
  "language_info": {
   "codemirror_mode": {
    "name": "ipython",
    "version": 3
   },
   "file_extension": ".py",
   "mimetype": "text/x-python",
   "name": "python",
   "nbconvert_exporter": "python",
   "pygments_lexer": "ipython3",
   "version": "3.7.0"
  }
 },
 "nbformat": 4,
 "nbformat_minor": 2
}
